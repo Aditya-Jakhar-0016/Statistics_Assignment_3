{
  "cells": [
    {
      "cell_type": "markdown",
      "id": "adac038c",
      "metadata": {
        "id": "adac038c"
      },
      "source": [
        "# 📊 Theory Questions\n",
        "\n"
      ]
    },
    {
      "cell_type": "markdown",
      "id": "783955a4",
      "metadata": {
        "id": "783955a4"
      },
      "source": [
        "## 📘 1. What is hypothesis testing in statistics?\n",
        "\n",
        "Hypothesis testing is a statistical method used to make decisions about a population based on sample data. It involves testing an assumption (hypothesis) and determining whether there is enough evidence to reject it."
      ]
    },
    {
      "cell_type": "markdown",
      "id": "44580759",
      "metadata": {
        "id": "44580759"
      },
      "source": [
        "## 📘 2. What is the null hypothesis, and how does it differ from the alternative hypothesis?\n",
        "\n",
        "- **Null Hypothesis (H₀)**: Assumes no effect or no difference.\n",
        "- **Alternative Hypothesis (H₁)**: Represents an effect or difference."
      ]
    },
    {
      "cell_type": "markdown",
      "id": "db1983f7",
      "metadata": {
        "id": "db1983f7"
      },
      "source": [
        "## 📘 3. What is the significance level in hypothesis testing, and why is it important?\n",
        "\n",
        "The significance level (α) is the probability of rejecting a true null hypothesis, usually set at 0.05 (5%). It helps control the likelihood of making a Type 1 error."
      ]
    },
    {
      "cell_type": "markdown",
      "id": "6e7613b7",
      "metadata": {
        "id": "6e7613b7"
      },
      "source": [
        "## 📘 4. What does a P-value represent in hypothesis testing?\n",
        "\n",
        "A P-value indicates the probability of obtaining a result as extreme as the observed data if the null hypothesis is true. A low P-value (< 0.05) suggests strong evidence against H₀."
      ]
    },
    {
      "cell_type": "markdown",
      "id": "4e5273d3",
      "metadata": {
        "id": "4e5273d3"
      },
      "source": [
        "## 📘 5. How do you interpret the P-value in hypothesis testing?\n",
        "\n",
        "- **P < 0.05**: Reject the null hypothesis (strong evidence against H₀).\n",
        "- **P > 0.05**: Fail to reject the null hypothesis (not enough evidence)."
      ]
    },
    {
      "cell_type": "markdown",
      "id": "34efc4bf",
      "metadata": {
        "id": "34efc4bf"
      },
      "source": [
        "## 📘 6. What are Type 1 and Type 2 errors in hypothesis testing?\n",
        "\n",
        "- **Type 1 Error** (False Positive): Rejecting a true null hypothesis.\n",
        "- **Type 2 Error** (False Negative): Failing to reject a false null hypothesis."
      ]
    },
    {
      "cell_type": "markdown",
      "id": "8b438016",
      "metadata": {
        "id": "8b438016"
      },
      "source": [
        "## 📘 7. What is the difference between a one-tailed and a two-tailed test?\n",
        "\n",
        "- **One-tailed test**: Tests for an effect in one direction (greater or lesser).\n",
        "- **Two-tailed test**: Tests for an effect in both directions."
      ]
    },
    {
      "cell_type": "markdown",
      "id": "d1f9efb3",
      "metadata": {
        "id": "d1f9efb3"
      },
      "source": [
        "## 📘 8. What is the Z-test, and when is it used?\n",
        "\n",
        "A Z-test is used to compare a sample mean to a known population mean when the population standard deviation is known."
      ]
    },
    {
      "cell_type": "markdown",
      "id": "92e18800",
      "metadata": {
        "id": "92e18800"
      },
      "source": [
        "## 📘 9. How do you calculate the Z-score, and what does it represent?\n",
        "\n",
        "The Z-score measures how many standard deviations a data point is from the mean:\n",
        "\\( Z = \\frac{X - \\mu}{\\sigma} \\)."
      ]
    },
    {
      "cell_type": "markdown",
      "id": "98aa18b9",
      "metadata": {
        "id": "98aa18b9"
      },
      "source": [
        "## 📘 10. What is the T-distribution, and when should it be used?\n",
        "\n",
        "The T-distribution is used instead of the normal distribution when the sample size is small (n < 30) and the population standard deviation is unknown."
      ]
    },
    {
      "cell_type": "markdown",
      "id": "0ea2209a",
      "metadata": {
        "id": "0ea2209a"
      },
      "source": [
        "## 📘 11. What is the difference between a Z-test and a T-test?\n",
        "\n",
        "- **Z-test**: Used when population standard deviation is known.\n",
        "- **T-test**: Used when population standard deviation is unknown and sample size is small."
      ]
    },
    {
      "cell_type": "markdown",
      "id": "5d4fc8d9",
      "metadata": {
        "id": "5d4fc8d9"
      },
      "source": [
        "## 📘 12. What is the T-test, and how is it used in hypothesis testing?\n",
        "\n",
        "A T-test is used to compare sample means to determine if there is a significant difference between groups."
      ]
    },
    {
      "cell_type": "markdown",
      "id": "7389e552",
      "metadata": {
        "id": "7389e552"
      },
      "source": [
        "## 📘 13. What is a confidence interval, and how is it used?\n",
        "\n",
        "A confidence interval provides a range of values that is likely to contain the population mean, helping estimate uncertainty."
      ]
    },
    {
      "cell_type": "markdown",
      "id": "5ec53e06",
      "metadata": {
        "id": "5ec53e06"
      },
      "source": [
        "## 📘 14. What is the margin of error, and how does it affect the confidence interval?\n",
        "\n",
        "The margin of error is the range above and below the sample statistic within which the population parameter is expected to fall."
      ]
    },
    {
      "cell_type": "markdown",
      "id": "75cf9dc7",
      "metadata": {
        "id": "75cf9dc7"
      },
      "source": [
        "## 📘 15. How is Bayes' Theorem used in statistics, and what is its significance?\n",
        "\n",
        "Bayes' Theorem calculates conditional probabilities and is used in areas like spam filtering, medical diagnosis, and machine learning."
      ]
    },
    {
      "cell_type": "markdown",
      "id": "f4321d0d",
      "metadata": {
        "id": "f4321d0d"
      },
      "source": [
        "## 📘 16. What is the Chi-square distribution, and when is it used?\n",
        "\n",
        "The Chi-square distribution is used for categorical data analysis, such as testing independence and goodness of fit."
      ]
    },
    {
      "cell_type": "markdown",
      "id": "ea9d13dd",
      "metadata": {
        "id": "ea9d13dd"
      },
      "source": [
        "## 📘 17. What is the Chi-square goodness of fit test, and how is it applied?\n",
        "\n",
        "It compares observed data to expected data to determine if the distribution follows a specific pattern."
      ]
    },
    {
      "cell_type": "markdown",
      "id": "891708e3",
      "metadata": {
        "id": "891708e3"
      },
      "source": [
        "## 📘 18. What is the F-distribution, and when is it used?\n",
        "\n",
        "The F-distribution is used to compare variances of two populations in tests like ANOVA and the F-test."
      ]
    },
    {
      "cell_type": "markdown",
      "id": "d394eaa6",
      "metadata": {
        "id": "d394eaa6"
      },
      "source": [
        "## 📘 19. What is an ANOVA test, and what are its assumptions?\n",
        "\n",
        "ANOVA (Analysis of Variance) compares means across multiple groups. Assumptions include normality, independence, and equal variance."
      ]
    },
    {
      "cell_type": "markdown",
      "id": "2b8ec588",
      "metadata": {
        "id": "2b8ec588"
      },
      "source": [
        "## 📘 20. What are the different types of ANOVA tests?\n",
        "\n",
        "- **One-way ANOVA**: Compares means of one factor across groups.\n",
        "- **Two-way ANOVA**: Examines the effect of two factors simultaneously."
      ]
    },
    {
      "cell_type": "markdown",
      "id": "5c12bbdd",
      "metadata": {
        "id": "5c12bbdd"
      },
      "source": [
        "## 📘 21. What is the F-test, and how does it relate to hypothesis testing?\n",
        "\n",
        "The F-test compares variances between two or more groups to determine statistical significance."
      ]
    },
    {
      "cell_type": "markdown",
      "id": "26465c14",
      "metadata": {
        "id": "26465c14"
      },
      "source": [
        "## 📘 22. What are some real-world applications of hypothesis testing?\n",
        "\n",
        "- Medicine: Drug effectiveness testing.\n",
        "- Business: A/B testing for marketing strategies.\n",
        "- Manufacturing: Quality control."
      ]
    },
    {
      "cell_type": "markdown",
      "id": "8ea27f67",
      "metadata": {
        "id": "8ea27f67"
      },
      "source": [
        "## 🛠 Practical Questions"
      ]
    },
    {
      "cell_type": "markdown",
      "id": "66826c19",
      "metadata": {
        "id": "66826c19"
      },
      "source": [
        "### 1. Perform a Z-test for comparing a sample mean to a population mean"
      ]
    },
    {
      "cell_type": "code",
      "execution_count": 1,
      "id": "0f1b88ee",
      "metadata": {
        "colab": {
          "base_uri": "https://localhost:8080/"
        },
        "id": "0f1b88ee",
        "outputId": "cdbd57da-16a2-4ea9-a900-43742b2617bf"
      },
      "outputs": [
        {
          "output_type": "stream",
          "name": "stdout",
          "text": [
            "Z-score: -2.7386127875258306\n",
            "P-value: 0.0061698993205441255\n"
          ]
        }
      ],
      "source": [
        "\n",
        "import numpy as np\n",
        "from scipy.stats import norm\n",
        "\n",
        "sample_mean = 50\n",
        "population_mean = 55\n",
        "std_dev = 10\n",
        "sample_size = 30\n",
        "\n",
        "z_score = (sample_mean - population_mean) / (std_dev / np.sqrt(sample_size))\n",
        "p_value = 2 * (1 - norm.cdf(abs(z_score)))\n",
        "\n",
        "print(\"Z-score:\", z_score)\n",
        "print(\"P-value:\", p_value)\n"
      ]
    },
    {
      "cell_type": "markdown",
      "id": "dd2f9974",
      "metadata": {
        "id": "dd2f9974"
      },
      "source": [
        "### 2. Simulate random data and perform hypothesis testing"
      ]
    },
    {
      "cell_type": "code",
      "execution_count": 2,
      "id": "00d1dddd",
      "metadata": {
        "colab": {
          "base_uri": "https://localhost:8080/"
        },
        "id": "00d1dddd",
        "outputId": "630a26d0-2272-4bca-cd86-8f33abe86d98"
      },
      "outputs": [
        {
          "output_type": "stream",
          "name": "stdout",
          "text": [
            "T-statistic: -1.145017367038331\n",
            "P-value: 0.2615641461880146\n"
          ]
        }
      ],
      "source": [
        "\n",
        "import scipy.stats as stats\n",
        "\n",
        "np.random.seed(42)\n",
        "data = np.random.normal(55, 10, 30)\n",
        "t_stat, p_value = stats.ttest_1samp(data, 55)\n",
        "\n",
        "print(\"T-statistic:\", t_stat)\n",
        "print(\"P-value:\", p_value)\n"
      ]
    },
    {
      "cell_type": "markdown",
      "id": "72ff7449",
      "metadata": {
        "id": "72ff7449"
      },
      "source": [
        "### 3. Perform an independent T-test and interpret the results"
      ]
    },
    {
      "cell_type": "code",
      "execution_count": 3,
      "id": "32208c9e",
      "metadata": {
        "colab": {
          "base_uri": "https://localhost:8080/"
        },
        "id": "32208c9e",
        "outputId": "dce9f919-6231-435a-93c8-47caa76a42eb"
      },
      "outputs": [
        {
          "output_type": "stream",
          "name": "stdout",
          "text": [
            "Independent T-test statistic: -2.5525907328394175\n",
            "P-value: 0.01334724688668218\n"
          ]
        }
      ],
      "source": [
        "\n",
        "group1 = np.random.normal(50, 10, 30)\n",
        "group2 = np.random.normal(55, 10, 30)\n",
        "\n",
        "t_stat, p_value = stats.ttest_ind(group1, group2)\n",
        "\n",
        "print(\"Independent T-test statistic:\", t_stat)\n",
        "print(\"P-value:\", p_value)\n"
      ]
    },
    {
      "cell_type": "markdown",
      "id": "953cc964",
      "metadata": {
        "id": "953cc964"
      },
      "source": [
        "### 4. Perform a paired sample T-test using Python"
      ]
    },
    {
      "cell_type": "code",
      "execution_count": 4,
      "id": "3922b0fe",
      "metadata": {
        "colab": {
          "base_uri": "https://localhost:8080/"
        },
        "id": "3922b0fe",
        "outputId": "72d751eb-06c1-45ca-bd4b-08850eeb50ac"
      },
      "outputs": [
        {
          "output_type": "stream",
          "name": "stdout",
          "text": [
            "Paired T-test statistic: 0.5078374763470695\n",
            "P-value: 0.6154083448121046\n"
          ]
        }
      ],
      "source": [
        "\n",
        "before_treatment = np.random.normal(50, 10, 30)\n",
        "after_treatment = before_treatment + np.random.normal(0, 5, 30)\n",
        "\n",
        "t_stat, p_value = stats.ttest_rel(before_treatment, after_treatment)\n",
        "\n",
        "print(\"Paired T-test statistic:\", t_stat)\n",
        "print(\"P-value:\", p_value)\n"
      ]
    },
    {
      "cell_type": "markdown",
      "id": "c79a2884",
      "metadata": {
        "id": "c79a2884"
      },
      "source": [
        "### 5. Calculate the confidence interval for a sample mean"
      ]
    },
    {
      "cell_type": "code",
      "execution_count": 5,
      "id": "01964434",
      "metadata": {
        "colab": {
          "base_uri": "https://localhost:8080/"
        },
        "id": "01964434",
        "outputId": "c0af5d23-4bf0-46f9-e176-6aff1711adda"
      },
      "outputs": [
        {
          "output_type": "stream",
          "name": "stdout",
          "text": [
            "95% Confidence Interval: (49.75785181035169, 56.47921027262756)\n"
          ]
        }
      ],
      "source": [
        "\n",
        "import scipy.stats as stats\n",
        "\n",
        "confidence_level = 0.95\n",
        "sample_mean = np.mean(data)\n",
        "sample_std = np.std(data, ddof=1)\n",
        "sample_size = len(data)\n",
        "margin_of_error = stats.t.ppf((1 + confidence_level) / 2, sample_size - 1) * (sample_std / np.sqrt(sample_size))\n",
        "conf_interval = (sample_mean - margin_of_error, sample_mean + margin_of_error)\n",
        "\n",
        "print(\"95% Confidence Interval:\", conf_interval)\n"
      ]
    },
    {
      "cell_type": "markdown",
      "id": "7631a513",
      "metadata": {
        "id": "7631a513"
      },
      "source": [
        "### 6. Perform a Chi-square test for independence"
      ]
    },
    {
      "cell_type": "code",
      "execution_count": 6,
      "id": "a9e93aeb",
      "metadata": {
        "colab": {
          "base_uri": "https://localhost:8080/"
        },
        "id": "a9e93aeb",
        "outputId": "c98de86b-84f7-4f75-ea15-6f94249d7f0e"
      },
      "outputs": [
        {
          "output_type": "stream",
          "name": "stdout",
          "text": [
            "Chi-square Statistic: 0.0\n",
            "P-value: 1.0\n",
            "Expected Frequencies: [[10. 20.]\n",
            " [20. 40.]]\n"
          ]
        }
      ],
      "source": [
        "\n",
        "from scipy.stats import chi2_contingency\n",
        "\n",
        "observed = np.array([[10, 20], [20, 40]])\n",
        "chi2, p, dof, expected = chi2_contingency(observed)\n",
        "\n",
        "print(\"Chi-square Statistic:\", chi2)\n",
        "print(\"P-value:\", p)\n",
        "print(\"Expected Frequencies:\", expected)\n"
      ]
    },
    {
      "cell_type": "markdown",
      "id": "1b2cfe8c",
      "metadata": {
        "id": "1b2cfe8c"
      },
      "source": [
        "### 7. Implement an F-test to compare variances"
      ]
    },
    {
      "cell_type": "code",
      "execution_count": 7,
      "id": "4ccdc929",
      "metadata": {
        "colab": {
          "base_uri": "https://localhost:8080/"
        },
        "id": "4ccdc929",
        "outputId": "f39de76e-6e4a-43bc-9ae5-7b22f8aa201e"
      },
      "outputs": [
        {
          "output_type": "stream",
          "name": "stdout",
          "text": [
            "F-test Statistic: 0.8810208946082528\n",
            "P-value: 0.6323338280504909\n"
          ]
        }
      ],
      "source": [
        "\n",
        "from scipy.stats import f\n",
        "\n",
        "var1 = np.var(group1, ddof=1)\n",
        "var2 = np.var(group2, ddof=1)\n",
        "f_stat = var1 / var2\n",
        "p_value = 1 - f.cdf(f_stat, len(group1) - 1, len(group2) - 1)\n",
        "\n",
        "print(\"F-test Statistic:\", f_stat)\n",
        "print(\"P-value:\", p_value)\n"
      ]
    },
    {
      "cell_type": "markdown",
      "id": "47b9ff68",
      "metadata": {
        "id": "47b9ff68"
      },
      "source": [
        "### 8. Perform a one-way ANOVA test"
      ]
    },
    {
      "cell_type": "code",
      "execution_count": 8,
      "id": "48f4371a",
      "metadata": {
        "colab": {
          "base_uri": "https://localhost:8080/"
        },
        "id": "48f4371a",
        "outputId": "ceddf249-e65a-4ae7-e186-9c5f366a2109"
      },
      "outputs": [
        {
          "output_type": "stream",
          "name": "stdout",
          "text": [
            "One-way ANOVA Statistic: 4.412477461666664\n",
            "P-value: 0.014954343803171675\n"
          ]
        }
      ],
      "source": [
        "\n",
        "from scipy.stats import f_oneway\n",
        "\n",
        "group_a = np.random.normal(50, 10, 30)\n",
        "group_b = np.random.normal(55, 10, 30)\n",
        "group_c = np.random.normal(60, 10, 30)\n",
        "\n",
        "anova_stat, p_value = f_oneway(group_a, group_b, group_c)\n",
        "\n",
        "print(\"One-way ANOVA Statistic:\", anova_stat)\n",
        "print(\"P-value:\", p_value)\n"
      ]
    },
    {
      "cell_type": "markdown",
      "id": "45512e2a",
      "metadata": {
        "id": "45512e2a"
      },
      "source": [
        "### 9. Perform a two-way ANOVA test"
      ]
    },
    {
      "cell_type": "code",
      "execution_count": 10,
      "id": "8e010b85",
      "metadata": {
        "colab": {
          "base_uri": "https://localhost:8080/"
        },
        "id": "8e010b85",
        "outputId": "f21b67dd-401d-45fd-bafd-5b7437941bdc"
      },
      "outputs": [
        {
          "output_type": "stream",
          "name": "stdout",
          "text": [
            "                              sum_sq    df         F    PR(>F)\n",
            "C(Factor_A)               475.675211   2.0  1.673330  0.208777\n",
            "C(Factor_B)                 0.654807   1.0  0.004607  0.946448\n",
            "C(Factor_A):C(Factor_B)     4.610765   2.0  0.016220  0.983922\n",
            "Residual                 3411.223813  24.0       NaN       NaN\n"
          ]
        }
      ],
      "source": [
        "\n",
        "import statsmodels.api as sm\n",
        "from statsmodels.formula.api import ols\n",
        "import pandas as pd\n",
        "data_anova = pd.DataFrame({\n",
        "    'Factor_A': np.repeat(['A', 'B', 'C'], 10),\n",
        "    'Factor_B': np.tile(['X', 'Y'], 15),\n",
        "    'Value': np.random.randn(30) * 10 + 50\n",
        "})\n",
        "\n",
        "model = ols('Value ~ C(Factor_A) + C(Factor_B) + C(Factor_A):C(Factor_B)', data=data_anova).fit()\n",
        "anova_table = sm.stats.anova_lm(model, typ=2)\n",
        "\n",
        "print(anova_table)\n"
      ]
    },
    {
      "cell_type": "markdown",
      "id": "204e8d4f",
      "metadata": {
        "id": "204e8d4f"
      },
      "source": [
        "### 10. Write a Python program to calculate the margin of error for a confidence level"
      ]
    },
    {
      "cell_type": "code",
      "execution_count": 11,
      "id": "7da70892",
      "metadata": {
        "colab": {
          "base_uri": "https://localhost:8080/"
        },
        "id": "7da70892",
        "outputId": "bbf3f883-c4d2-4862-8bcb-20f996ff86e7"
      },
      "outputs": [
        {
          "output_type": "stream",
          "name": "stdout",
          "text": [
            "Margin of Error: 3.360679231137937\n"
          ]
        }
      ],
      "source": [
        "\n",
        "confidence_level = 0.95\n",
        "sample_std = np.std(data, ddof=1)\n",
        "sample_size = len(data)\n",
        "\n",
        "margin_of_error = stats.t.ppf((1 + confidence_level) / 2, sample_size - 1) * (sample_std / np.sqrt(sample_size))\n",
        "print(\"Margin of Error:\", margin_of_error)\n"
      ]
    },
    {
      "cell_type": "markdown",
      "id": "3fbb3992",
      "metadata": {
        "id": "3fbb3992"
      },
      "source": [
        "### 11. Implement Bayesian inference using Bayes' Theorem"
      ]
    },
    {
      "cell_type": "code",
      "execution_count": 12,
      "id": "ef604bdf",
      "metadata": {
        "colab": {
          "base_uri": "https://localhost:8080/"
        },
        "id": "ef604bdf",
        "outputId": "b76c4e31-a5a4-488d-ca77-30a6ba62e6ab"
      },
      "outputs": [
        {
          "output_type": "stream",
          "name": "stdout",
          "text": [
            "Posterior Probability: 0.08333333333333333\n"
          ]
        }
      ],
      "source": [
        "\n",
        "def bayes_theorem(prior, likelihood, evidence):\n",
        "    return (likelihood * prior) / evidence\n",
        "\n",
        "prior = 0.01\n",
        "likelihood = 0.9\n",
        "evidence = (likelihood * prior) + ((1 - prior) * 0.1)\n",
        "posterior = bayes_theorem(prior, likelihood, evidence)\n",
        "\n",
        "print(\"Posterior Probability:\", posterior)\n"
      ]
    },
    {
      "cell_type": "markdown",
      "id": "a5b17f11",
      "metadata": {
        "id": "a5b17f11"
      },
      "source": [
        "### 12. Perform a Chi-square test for goodness of fit"
      ]
    },
    {
      "cell_type": "code",
      "execution_count": 13,
      "id": "e85df310",
      "metadata": {
        "colab": {
          "base_uri": "https://localhost:8080/"
        },
        "id": "e85df310",
        "outputId": "c035717f-5c55-4d39-b439-bc43d1f24330"
      },
      "outputs": [
        {
          "output_type": "stream",
          "name": "stdout",
          "text": [
            "Chi-square Goodness of Fit Statistic: 5.0\n",
            "P-value: 0.0820849986238988\n"
          ]
        }
      ],
      "source": [
        "\n",
        "observed_values = np.array([50, 30, 20])\n",
        "expected_values = np.array([40, 40, 20])\n",
        "\n",
        "chi2_stat, p_value = stats.chisquare(observed_values, expected_values)\n",
        "print(\"Chi-square Goodness of Fit Statistic:\", chi2_stat)\n",
        "print(\"P-value:\", p_value)\n"
      ]
    },
    {
      "cell_type": "markdown",
      "id": "efbd16b5",
      "metadata": {
        "id": "efbd16b5"
      },
      "source": [
        "### 13. Write a Python program to visualize the Chi-square distribution"
      ]
    },
    {
      "cell_type": "code",
      "execution_count": 14,
      "id": "7b92350e",
      "metadata": {
        "colab": {
          "base_uri": "https://localhost:8080/",
          "height": 452
        },
        "id": "7b92350e",
        "outputId": "af5bfd48-4d6f-4afa-f096-fb6a6528e568"
      },
      "outputs": [
        {
          "output_type": "display_data",
          "data": {
            "text/plain": [
              "<Figure size 640x480 with 1 Axes>"
            ],
            "image/png": "[encoded data removed]"
          },
          "metadata": {}
        }
      ],
      "source": [
        "\n",
        "import numpy as np\n",
        "import matplotlib.pyplot as plt\n",
        "from scipy.stats import chi2\n",
        "\n",
        "x = np.linspace(0, 10, 100)\n",
        "plt.plot(x, chi2.pdf(x, df=2), label=\"df=2\")\n",
        "plt.plot(x, chi2.pdf(x, df=5), label=\"df=5\")\n",
        "plt.legend()\n",
        "plt.title(\"Chi-square Distribution\")\n",
        "plt.show()\n"
      ]
    },
    {
      "cell_type": "markdown",
      "id": "9f627f6b",
      "metadata": {
        "id": "9f627f6b"
      },
      "source": [
        "### 14. Implement an F-test to compare variances"
      ]
    },
    {
      "cell_type": "code",
      "execution_count": 15,
      "id": "a5376561",
      "metadata": {
        "colab": {
          "base_uri": "https://localhost:8080/"
        },
        "id": "a5376561",
        "outputId": "fc7c5a65-9067-426a-c364-b5c06eec73dc"
      },
      "outputs": [
        {
          "output_type": "stream",
          "name": "stdout",
          "text": [
            "F-test Statistic: 1.398164691377362\n",
            "P-value: 0.8139749701549486\n"
          ]
        }
      ],
      "source": [
        "\n",
        "group1 = np.random.normal(50, 10, 30)\n",
        "group2 = np.random.normal(55, 10, 30)\n",
        "\n",
        "f_stat = np.var(group1, ddof=1) / np.var(group2, ddof=1)\n",
        "p_value = stats.f.cdf(f_stat, len(group1) - 1, len(group2) - 1)\n",
        "\n",
        "print(\"F-test Statistic:\", f_stat)\n",
        "print(\"P-value:\", p_value)\n"
      ]
    },
    {
      "cell_type": "markdown",
      "id": "4ff98658",
      "metadata": {
        "id": "4ff98658"
      },
      "source": [
        "### 15. Perform a one-way ANOVA test and visualize with boxplots"
      ]
    },
    {
      "cell_type": "code",
      "execution_count": 17,
      "id": "49a6409b",
      "metadata": {
        "colab": {
          "base_uri": "https://localhost:8080/",
          "height": 487
        },
        "id": "49a6409b",
        "outputId": "bef6e2d4-5ee2-4d25-96f2-2c55839507b7"
      },
      "outputs": [
        {
          "output_type": "display_data",
          "data": {
            "text/plain": [
              "<Figure size 640x480 with 1 Axes>"
            ],
            "image/png": "[encoded data removed]"
          },
          "metadata": {}
        },
        {
          "output_type": "stream",
          "name": "stdout",
          "text": [
            "One-way ANOVA Statistic: 15.27161533363733\n",
            "P-value: 2.067715980640058e-06\n"
          ]
        }
      ],
      "source": [
        "import seaborn as sns\n",
        "import numpy as np\n",
        "import matplotlib.pyplot as plt\n",
        "from scipy.stats import chi2\n",
        "from scipy.stats import f_oneway\n",
        "\n",
        "\n",
        "group1 = np.random.normal(50, 10, 30)\n",
        "group2 = np.random.normal(55, 10, 30)\n",
        "group3 = np.random.normal(60, 10, 30) # Assuming group3 is defined similarly to group1 and group2\n",
        "\n",
        "\n",
        "sns.boxplot(data=[group1, group2, group3])\n",
        "plt.title(\"One-way ANOVA - Boxplots\")\n",
        "plt.show()\n",
        "\n",
        "anova_stat, p_value = f_oneway(group1, group2, group3)\n",
        "print(\"One-way ANOVA Statistic:\", anova_stat)\n",
        "print(\"P-value:\", p_value)"
      ]
    },
    {
      "cell_type": "markdown",
      "id": "0c94154f",
      "metadata": {
        "id": "0c94154f"
      },
      "source": [
        "### 16. Check the assumptions for ANOVA (normality, independence, equal variance)"
      ]
    },
    {
      "cell_type": "code",
      "execution_count": 18,
      "id": "352f159a",
      "metadata": {
        "colab": {
          "base_uri": "https://localhost:8080/"
        },
        "id": "352f159a",
        "outputId": "e01d4ef7-7549-44c2-c2a6-705f21aaa705"
      },
      "outputs": [
        {
          "output_type": "stream",
          "name": "stdout",
          "text": [
            "Shapiro-Wilk Test for Group 1: ShapiroResult(statistic=0.9788994201486828, pvalue=0.7955916000406736)\n",
            "Shapiro-Wilk Test for Group 2: ShapiroResult(statistic=0.9657459619440584, pvalue=0.4302106348774076)\n",
            "Levene's Test for Equal Variance: 2.983270041374036 P-value: 0.08945155440818245\n"
          ]
        }
      ],
      "source": [
        "\n",
        "from scipy.stats import shapiro\n",
        "\n",
        "# Checking normality assumption\n",
        "print(\"Shapiro-Wilk Test for Group 1:\", shapiro(group1))\n",
        "print(\"Shapiro-Wilk Test for Group 2:\", shapiro(group2))\n",
        "\n",
        "# Checking homogeneity of variance\n",
        "levene_stat, p_levene = stats.levene(group1, group2)\n",
        "print(\"Levene's Test for Equal Variance:\", levene_stat, \"P-value:\", p_levene)\n"
      ]
    },
    {
      "cell_type": "markdown",
      "id": "c0415d67",
      "metadata": {
        "id": "c0415d67"
      },
      "source": [
        "### 17. Perform a hypothesis test for population variance using Chi-square"
      ]
    },
    {
      "cell_type": "code",
      "execution_count": 19,
      "id": "23d779ab",
      "metadata": {
        "colab": {
          "base_uri": "https://localhost:8080/"
        },
        "id": "23d779ab",
        "outputId": "30a5cf88-58fd-4c99-d36b-eea1f5baf589"
      },
      "outputs": [
        {
          "output_type": "stream",
          "name": "stdout",
          "text": [
            "Chi-square test for variance: 13.302312927829183\n",
            "P-value: 0.9943779137589994\n"
          ]
        }
      ],
      "source": [
        "\n",
        "sample_variance = np.var(group1, ddof=1)\n",
        "chi2_stat = (len(group1) - 1) * sample_variance / np.var(group2, ddof=1)\n",
        "p_value = stats.chi2.sf(chi2_stat, len(group1) - 1)\n",
        "\n",
        "print(\"Chi-square test for variance:\", chi2_stat)\n",
        "print(\"P-value:\", p_value)\n"
      ]
    },
    {
      "cell_type": "markdown",
      "id": "e0f26ebf",
      "metadata": {
        "id": "e0f26ebf"
      },
      "source": [
        "### 18. Perform a Z-test for comparing proportions"
      ]
    },
    {
      "cell_type": "code",
      "execution_count": 20,
      "id": "ac79c6a6",
      "metadata": {
        "colab": {
          "base_uri": "https://localhost:8080/"
        },
        "id": "ac79c6a6",
        "outputId": "cd811b12-eb6a-42f8-82a3-d131db79ef43"
      },
      "outputs": [
        {
          "output_type": "stream",
          "name": "stdout",
          "text": [
            "Z-test for proportions: 0.7918075824648956\n",
            "P-value: 0.4284728804428174\n"
          ]
        }
      ],
      "source": [
        "\n",
        "from statsmodels.stats.proportion import proportions_ztest\n",
        "\n",
        "count = np.array([30, 25])\n",
        "nobs = np.array([100, 100])\n",
        "z_stat, p_value = proportions_ztest(count, nobs)\n",
        "\n",
        "print(\"Z-test for proportions:\", z_stat)\n",
        "print(\"P-value:\", p_value)\n"
      ]
    },
    {
      "cell_type": "markdown",
      "id": "39cf1541",
      "metadata": {
        "id": "39cf1541"
      },
      "source": [
        "### 19. Implement an F-test for comparing the variances of two datasets"
      ]
    },
    {
      "cell_type": "code",
      "execution_count": 21,
      "id": "f510ed44",
      "metadata": {
        "colab": {
          "base_uri": "https://localhost:8080/"
        },
        "id": "f510ed44",
        "outputId": "ca4d4426-96c9-4565-ffce-cbbde13814bc"
      },
      "outputs": [
        {
          "output_type": "stream",
          "name": "stdout",
          "text": [
            "F-test for variance: 18.22583648047747\n",
            "P-value: 7.359874426091435e-05\n"
          ]
        }
      ],
      "source": [
        "\n",
        "f_stat, p_value = stats.f_oneway(group1, group2)\n",
        "print(\"F-test for variance:\", f_stat)\n",
        "print(\"P-value:\", p_value)\n"
      ]
    },
    {
      "cell_type": "markdown",
      "id": "1aa0d89f",
      "metadata": {
        "id": "1aa0d89f"
      },
      "source": [
        "### 20. Perform a Chi-square test for goodness of fit with simulated data"
      ]
    },
    {
      "cell_type": "code",
      "execution_count": 22,
      "id": "655ad7cb",
      "metadata": {
        "colab": {
          "base_uri": "https://localhost:8080/"
        },
        "id": "655ad7cb",
        "outputId": "4077b6f9-6273-4e4e-f20e-47a1f44564e8"
      },
      "outputs": [
        {
          "output_type": "stream",
          "name": "stdout",
          "text": [
            "Chi-square Goodness of Fit Statistic: 1.25\n",
            "P-value: 0.5352614285189903\n"
          ]
        }
      ],
      "source": [
        "\n",
        "simulated_observed = np.array([45, 35, 20])\n",
        "simulated_expected = np.array([40, 40, 20])\n",
        "chi2_stat, p_value = stats.chisquare(simulated_observed, simulated_expected)\n",
        "\n",
        "print(\"Chi-square Goodness of Fit Statistic:\", chi2_stat)\n",
        "print(\"P-value:\", p_value)\n"
      ]
    },
    {
      "cell_type": "markdown",
      "id": "6d342892",
      "metadata": {
        "id": "6d342892"
      },
      "source": [
        "### 21. Perform a one-way ANOVA test and interpret the results"
      ]
    },
    {
      "cell_type": "code",
      "execution_count": 23,
      "id": "88f842fd",
      "metadata": {
        "colab": {
          "base_uri": "https://localhost:8080/"
        },
        "id": "88f842fd",
        "outputId": "fd0d5a87-63e5-4aff-8b89-5fcdceea893c"
      },
      "outputs": [
        {
          "output_type": "stream",
          "name": "stdout",
          "text": [
            "One-way ANOVA Statistic: 15.27161533363733\n",
            "P-value: 2.067715980640058e-06\n"
          ]
        }
      ],
      "source": [
        "\n",
        "anova_stat, p_value = f_oneway(group1, group2, group3)\n",
        "print(\"One-way ANOVA Statistic:\", anova_stat)\n",
        "print(\"P-value:\", p_value)\n"
      ]
    },
    {
      "cell_type": "markdown",
      "id": "fd46304a",
      "metadata": {
        "id": "fd46304a"
      },
      "source": [
        "### 22. Perform a two-way ANOVA test and visualize results"
      ]
    },
    {
      "cell_type": "code",
      "execution_count": 24,
      "id": "56022820",
      "metadata": {
        "colab": {
          "base_uri": "https://localhost:8080/"
        },
        "id": "56022820",
        "outputId": "522864f7-4228-4354-fa91-95eb3122fde2"
      },
      "outputs": [
        {
          "output_type": "stream",
          "name": "stdout",
          "text": [
            "                              sum_sq    df         F    PR(>F)\n",
            "C(Factor_A)               584.462288   2.0  2.054480  0.150106\n",
            "C(Factor_B)                 0.840332   1.0  0.005908  0.939370\n",
            "C(Factor_A):C(Factor_B)   100.402469   2.0  0.352931  0.706211\n",
            "Residual                 3413.781888  24.0       NaN       NaN\n"
          ]
        }
      ],
      "source": [
        "\n",
        "import statsmodels.api as sm\n",
        "from statsmodels.formula.api import ols\n",
        "\n",
        "data_anova = pd.DataFrame({\n",
        "    'Factor_A': np.repeat(['A', 'B', 'C'], 10),\n",
        "    'Factor_B': np.tile(['X', 'Y'], 15),\n",
        "    'Value': np.random.randn(30) * 10 + 50\n",
        "})\n",
        "\n",
        "model = ols('Value ~ C(Factor_A) + C(Factor_B) + C(Factor_A):C(Factor_B)', data=data_anova).fit()\n",
        "anova_table = sm.stats.anova_lm(model, typ=2)\n",
        "\n",
        "print(anova_table)\n"
      ]
    },
    {
      "cell_type": "markdown",
      "id": "c06eecd6",
      "metadata": {
        "id": "c06eecd6"
      },
      "source": [
        "### 23. Write a Python program to visualize the F-distribution"
      ]
    },
    {
      "cell_type": "code",
      "execution_count": 25,
      "id": "29ead3bf",
      "metadata": {
        "colab": {
          "base_uri": "https://localhost:8080/",
          "height": 452
        },
        "id": "29ead3bf",
        "outputId": "d5ac4f14-7de0-4cb2-b43a-04c504176e4b"
      },
      "outputs": [
        {
          "output_type": "display_data",
          "data": {
            "text/plain": [
              "<Figure size 640x480 with 1 Axes>"
            ],
            "image/png": "[encoded data removed]"
          },
          "metadata": {}
        }
      ],
      "source": [
        "\n",
        "import numpy as np\n",
        "import matplotlib.pyplot as plt\n",
        "from scipy.stats import f\n",
        "\n",
        "x = np.linspace(0, 5, 100)\n",
        "plt.plot(x, f.pdf(x, dfn=5, dfd=10), label=\"dfn=5, dfd=10\")\n",
        "plt.plot(x, f.pdf(x, dfn=10, dfd=20), label=\"dfn=10, dfd=20\")\n",
        "plt.legend()\n",
        "plt.title(\"F-distribution\")\n",
        "plt.show()\n"
      ]
    },
    {
      "cell_type": "markdown",
      "id": "3b0076a7",
      "metadata": {
        "id": "3b0076a7"
      },
      "source": [
        "### 24. Perform a hypothesis test for population variance using a Chi-square test"
      ]
    },
    {
      "cell_type": "code",
      "execution_count": 26,
      "id": "ffb0bc25",
      "metadata": {
        "colab": {
          "base_uri": "https://localhost:8080/"
        },
        "id": "ffb0bc25",
        "outputId": "db2bf284-cb6e-4123-8e4f-72a52751d0f3"
      },
      "outputs": [
        {
          "output_type": "stream",
          "name": "stdout",
          "text": [
            "Chi-square test for variance: 13.302312927829183\n",
            "P-value: 0.9943779137589994\n"
          ]
        }
      ],
      "source": [
        "\n",
        "sample_variance = np.var(group1, ddof=1)\n",
        "chi2_stat = (len(group1) - 1) * sample_variance / np.var(group2, ddof=1)\n",
        "p_value = stats.chi2.sf(chi2_stat, len(group1) - 1)\n",
        "\n",
        "print(\"Chi-square test for variance:\", chi2_stat)\n",
        "print(\"P-value:\", p_value)\n"
      ]
    },
    {
      "cell_type": "markdown",
      "id": "a6f8501f",
      "metadata": {
        "id": "a6f8501f"
      },
      "source": [
        "### 25. Perform a Z-test for comparing proportions between two datasets"
      ]
    },
    {
      "cell_type": "code",
      "execution_count": 27,
      "id": "22bb1cd8",
      "metadata": {
        "colab": {
          "base_uri": "https://localhost:8080/"
        },
        "id": "22bb1cd8",
        "outputId": "224f7781-8b19-4d03-d23b-36d158d9389a"
      },
      "outputs": [
        {
          "output_type": "stream",
          "name": "stdout",
          "text": [
            "Z-test for proportions: 0.2596785516587206\n",
            "P-value: 0.7951117385126644\n"
          ]
        }
      ],
      "source": [
        "\n",
        "from statsmodels.stats.proportion import proportions_ztest\n",
        "\n",
        "count = np.array([35, 40])\n",
        "nobs = np.array([100, 120])\n",
        "z_stat, p_value = proportions_ztest(count, nobs)\n",
        "\n",
        "print(\"Z-test for proportions:\", z_stat)\n",
        "print(\"P-value:\", p_value)\n"
      ]
    },
    {
      "cell_type": "markdown",
      "id": "028f9b5d",
      "metadata": {
        "id": "028f9b5d"
      },
      "source": [
        "### 26. Implement an F-test to compare the variances of two datasets"
      ]
    },
    {
      "cell_type": "code",
      "execution_count": 28,
      "id": "51218bd0",
      "metadata": {
        "colab": {
          "base_uri": "https://localhost:8080/"
        },
        "id": "51218bd0",
        "outputId": "b1252bea-154a-48e5-a95f-afd73fce9f73"
      },
      "outputs": [
        {
          "output_type": "stream",
          "name": "stdout",
          "text": [
            "F-test Statistic: 18.22583648047747\n",
            "P-value: 7.359874426091435e-05\n"
          ]
        }
      ],
      "source": [
        "\n",
        "f_stat, p_value = stats.f_oneway(group1, group2)\n",
        "print(\"F-test Statistic:\", f_stat)\n",
        "print(\"P-value:\", p_value)\n"
      ]
    },
    {
      "cell_type": "markdown",
      "id": "eae3de08",
      "metadata": {
        "id": "eae3de08"
      },
      "source": [
        "### 27. Perform a Chi-square test for goodness of fit with simulated data"
      ]
    },
    {
      "cell_type": "code",
      "execution_count": 29,
      "id": "2557b411",
      "metadata": {
        "colab": {
          "base_uri": "https://localhost:8080/"
        },
        "id": "2557b411",
        "outputId": "e5ef5758-efc1-4e45-8fde-b0b352106f4b"
      },
      "outputs": [
        {
          "output_type": "stream",
          "name": "stdout",
          "text": [
            "Chi-square Goodness of Fit Statistic: 1.25\n",
            "P-value: 0.5352614285189903\n"
          ]
        }
      ],
      "source": [
        "\n",
        "simulated_observed = np.array([45, 35, 20])\n",
        "simulated_expected = np.array([40, 40, 20])\n",
        "chi2_stat, p_value = stats.chisquare(simulated_observed, simulated_expected)\n",
        "\n",
        "print(\"Chi-square Goodness of Fit Statistic:\", chi2_stat)\n",
        "print(\"P-value:\", p_value)\n"
      ]
    }
  ],
  "metadata": {
    "colab": {
      "provenance": []
    },
    "language_info": {
      "name": "python"
    },
    "kernelspec": {
      "name": "python3",
      "display_name": "Python 3"
    }
  },
  "nbformat": 4,
  "nbformat_minor": 5
}